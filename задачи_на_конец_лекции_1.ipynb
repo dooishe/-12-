{
  "nbformat": 4,
  "nbformat_minor": 0,
  "metadata": {
    "colab": {
      "provenance": [],
      "authorship_tag": "ABX9TyMKG0ovJW7SMghkjmUt/yxz",
      "include_colab_link": true
    },
    "kernelspec": {
      "name": "python3",
      "display_name": "Python 3"
    },
    "language_info": {
      "name": "python"
    }
  },
  "cells": [
    {
      "cell_type": "markdown",
      "metadata": {
        "id": "view-in-github",
        "colab_type": "text"
      },
      "source": [
        "<a href=\"https://colab.research.google.com/github/dooishe/-12-/blob/main/%D0%B7%D0%B0%D0%B4%D0%B0%D1%87%D0%B8_%D0%BD%D0%B0_%D0%BA%D0%BE%D0%BD%D0%B5%D1%86_%D0%BB%D0%B5%D0%BA%D1%86%D0%B8%D0%B8_1.ipynb\" target=\"_parent\"><img src=\"https://colab.research.google.com/assets/colab-badge.svg\" alt=\"Open In Colab\"/></a>"
      ]
    },
    {
      "cell_type": "markdown",
      "source": [
        "Задача 1:\n",
        "Создайте функцию create_multiplier, которая принимает число n и возвращает функцию, умножающую переданное ей число на n. Например, если вызвать create_multiplier(3), то возвращенная функция должна умножать переданное ей число на 3."
      ],
      "metadata": {
        "id": "hmLg-JLDsOiR"
      }
    },
    {
      "cell_type": "code",
      "execution_count": null,
      "metadata": {
        "colab": {
          "base_uri": "https://localhost:8080/"
        },
        "id": "aGmKZ8NKq3j9",
        "outputId": "0c6b33e0-7d40-49c8-8df3-0bd5c2fd9143"
      },
      "outputs": [
        {
          "output_type": "stream",
          "name": "stdout",
          "text": [
            "12\n",
            "15\n",
            "18\n"
          ]
        }
      ],
      "source": [
        "def create_multiplier(n): return lambda m : n * m\n",
        "fn = create_multiplier(3)\n",
        "\n",
        "print(fn(4))\n",
        "print(fn(5))\n",
        "print(fn(6))"
      ]
    },
    {
      "cell_type": "markdown",
      "source": [
        "Задача 2:\n",
        "Напишите функцию create_counter, которая возвращает функцию, при каждом вызове увеличивающую счетчик на 1 и возвращающую текущее значение счетчика. Счетчик должен начинаться с 0."
      ],
      "metadata": {
        "id": "PQeDuUxBtAt5"
      }
    },
    {
      "cell_type": "code",
      "source": [
        "def create_counter():\n",
        "  count = 0\n",
        "  def counter():\n",
        "    nonlocal count\n",
        "    count += 1\n",
        "    print(f\"counter = {count}\")\n",
        "  return counter\n",
        "counter = create_counter()\n",
        "counter()\n",
        "counter()\n",
        "counter()\n",
        "\n",
        "\n",
        "\n"
      ],
      "metadata": {
        "colab": {
          "base_uri": "https://localhost:8080/"
        },
        "id": "r07v6TgltCPa",
        "outputId": "4d5fd74f-c166-4ea7-df71-19fa66f56a0d"
      },
      "execution_count": null,
      "outputs": [
        {
          "output_type": "stream",
          "name": "stdout",
          "text": [
            "counter = 1\n",
            "counter = 2\n",
            "counter = 3\n"
          ]
        }
      ]
    },
    {
      "cell_type": "markdown",
      "source": [
        "Создайте функцию create_power_function, которая принимает число exponent и возвращает функцию, возводящую переданное ей число в степень exponent. Например, если вызвать create_power_function(2), то возвращенная функция должна возводить переданное ей число в квадрат."
      ],
      "metadata": {
        "id": "RSoNF3dJu70z"
      }
    },
    {
      "cell_type": "code",
      "source": [
        "def create_power_function(exponent):\n",
        "  def power_function(number):\n",
        "    result = number ** exponent\n",
        "    print(f\"{number} ^ {exponent} = {result}\")\n",
        "  return power_function\n",
        "power_three_function = create_power_function(3)\n",
        "power_three_function(3)\n",
        "power_three_function(8)\n",
        "power_three_function(2)\n"
      ],
      "metadata": {
        "colab": {
          "base_uri": "https://localhost:8080/"
        },
        "id": "zGBTztq6u-WC",
        "outputId": "9e6a68ff-b303-4a57-a0d0-24638910b482"
      },
      "execution_count": null,
      "outputs": [
        {
          "output_type": "stream",
          "name": "stdout",
          "text": [
            "3 ^ 3 = 27\n",
            "8 ^ 3 = 512\n",
            "2 ^ 3 = 8\n"
          ]
        }
      ]
    },
    {
      "cell_type": "markdown",
      "source": [
        "Создай декоратор log_decorator, который будет логировать вызов функции и её аргументы. Декоратор должен выводить сообщение перед вызовом функции и после её выполнения."
      ],
      "metadata": {
        "id": "guUAe9Sb28YK"
      }
    },
    {
      "cell_type": "code",
      "source": [
        "def log_decorator(func):\n",
        "  def wrapper(*arg):\n",
        "    print(f\"Функция {func.__name__} вызвана с аргументами: ({arg[0]}, {arg[1]})\")\n",
        "    result = func(*arg)\n",
        "    if result < 0 : result = 0\n",
        "    print(f\"Функция {func.__name__} завершила работу с результатом: {result}\")\n",
        "\n",
        "  return wrapper\n",
        "\n",
        "@log_decorator\n",
        "def sum(a, b):\n",
        "  return a + b\n",
        "\n",
        "sum(34, 54)\n",
        "sum(34, -54)"
      ],
      "metadata": {
        "colab": {
          "base_uri": "https://localhost:8080/"
        },
        "id": "3ADZa_T929Qw",
        "outputId": "ac5e1bce-3d12-4b60-cee0-9d1bd445abd0"
      },
      "execution_count": null,
      "outputs": [
        {
          "output_type": "stream",
          "name": "stdout",
          "text": [
            "Функция sum вызвана с аргументами: (34, 54)\n",
            "Функция sum завершила работу с результатом: 88\n",
            "Функция sum вызвана с аргументами: (34, -54)\n",
            "Функция sum завершила работу с результатом: 0\n"
          ]
        }
      ]
    },
    {
      "cell_type": "markdown",
      "source": [
        "Задача 2: Декоратор для измерения времени выполнения\n",
        "Создай декоратор timer_decorator, который будет измерять время выполнения функции и выводить его в секундах."
      ],
      "metadata": {
        "id": "z53_4Zif44zh"
      }
    },
    {
      "cell_type": "code",
      "source": [
        "import time\n",
        "\n",
        "def decorator(func):\n",
        "  def wrapper(*arg, **kwargs):\n",
        "    start = time.time()\n",
        "    result = func(*arg)\n",
        "    end = time.time()\n",
        "    result_time = end - start\n",
        "    print(f\"Функция {func.__name__} выполнилась за {result_time:.4f} секунд(ы)\")\n",
        "    return result\n",
        "  return wrapper\n",
        "\n",
        "@decorator\n",
        "def slow_function():\n",
        "    time.sleep(2)\n",
        "\n",
        "slow_function()"
      ],
      "metadata": {
        "colab": {
          "base_uri": "https://localhost:8080/"
        },
        "id": "jyhLxMQU466S",
        "outputId": "8489ad8c-abb1-4943-a202-e64d49417eaa"
      },
      "execution_count": null,
      "outputs": [
        {
          "output_type": "stream",
          "name": "stdout",
          "text": [
            "Функция slow_function выполнилась за 2.0002 секунд(ы)\n"
          ]
        }
      ]
    },
    {
      "cell_type": "markdown",
      "source": [
        "Создай декоратор repeat_decorator, который принимает число n и вызывает задекорированную функцию n раз."
      ],
      "metadata": {
        "id": "W5mZpGkX-dQG"
      }
    },
    {
      "cell_type": "code",
      "source": [
        "def repeat_decorator(n):\n",
        "  def decorator(func):\n",
        "    def wrapper(*arg, **kwarg):\n",
        "      for _ in range(n):\n",
        "        result = func(*arg, **kwarg)\n",
        "      return result\n",
        "    return wrapper\n",
        "  return decorator\n",
        "\n",
        "\n",
        "\n",
        "@repeat_decorator(3)\n",
        "def say_hello():\n",
        "    print(\"Привет!\")\n",
        "\n",
        "say_hello()"
      ],
      "metadata": {
        "colab": {
          "base_uri": "https://localhost:8080/"
        },
        "id": "G4hlxqL4-cy0",
        "outputId": "3c606a53-32db-4bcb-8119-ac5bfb69d292"
      },
      "execution_count": null,
      "outputs": [
        {
          "output_type": "stream",
          "name": "stdout",
          "text": [
            "Привет!\n",
            "Привет!\n",
            "Привет!\n"
          ]
        }
      ]
    },
    {
      "cell_type": "code",
      "source": [
        "def sum(a, b):\n",
        "  \"\"\"\n",
        "  args:\n",
        "    a : первое слагаемое\n",
        "    b : второе слагаемое\n",
        "  returns:\n",
        "    результат сложения a + b\n",
        "  example:\n",
        "    >>> sum(4, 3)\n",
        "    7\n",
        "\n",
        "  \"\"\"\n",
        "  return a + b\n",
        "\n",
        "print(sum.__doc__)"
      ],
      "metadata": {
        "colab": {
          "base_uri": "https://localhost:8080/"
        },
        "id": "JmzyoW4fDiU5",
        "outputId": "b95c9c83-ecde-4beb-b5a3-33ab8f1a291b"
      },
      "execution_count": null,
      "outputs": [
        {
          "output_type": "stream",
          "name": "stdout",
          "text": [
            "\n",
            "  args:\n",
            "    a : первое слагаемое\n",
            "    b : второе слагаемое\n",
            "  returns:\n",
            "    результат сложения a + b\n",
            "  example:\n",
            "    >>> sum(4, 3)\n",
            "    7\n",
            "\n",
            "  \n"
          ]
        }
      ]
    },
    {
      "cell_type": "markdown",
      "source": [
        "Напиши генератор fibonacci, который будет возвращать числа Фибоначчи. Генератор должен принимать параметр n, который указывает, сколько чисел Фибоначчи нужно сгенерировать."
      ],
      "metadata": {
        "id": "YtxiEyUrvqTp"
      }
    },
    {
      "cell_type": "code",
      "source": [
        "def fibonacci(n):\n",
        "  a, b = 0, 1\n",
        "  for _ in range(n):\n",
        "     yield a\n",
        "     a, b = b, a + b\n",
        "for num in fibonacci(10):\n",
        "  print(num)\n",
        "\n",
        "\n",
        "\n"
      ],
      "metadata": {
        "colab": {
          "base_uri": "https://localhost:8080/"
        },
        "id": "-W6I4GkKvqBm",
        "outputId": "91201135-9fba-4d3b-df6a-f220cd2885ed"
      },
      "execution_count": 8,
      "outputs": [
        {
          "output_type": "stream",
          "name": "stdout",
          "text": [
            "0\n",
            "1\n",
            "1\n",
            "2\n",
            "3\n",
            "5\n",
            "8\n",
            "13\n",
            "21\n",
            "34\n"
          ]
        }
      ]
    },
    {
      "cell_type": "markdown",
      "source": [
        "Задача 2: Генератор бесконечной последовательности\n",
        "Создай генератор infinite_sequence, который будет возвращать бесконечную последовательность чисел, начиная с 0. Генератор не должен принимать параметров."
      ],
      "metadata": {
        "id": "3wLtRkp7yij3"
      }
    },
    {
      "cell_type": "code",
      "source": [
        "def infinite_sequence():\n",
        "  a = 0\n",
        "  while(True):\n",
        "    yield a ** 2\n",
        "    a += 1\n",
        "gen = infinite_sequence()\n",
        "for num in range(10):\n",
        "  print(next(gen))"
      ],
      "metadata": {
        "colab": {
          "base_uri": "https://localhost:8080/"
        },
        "id": "Yh70KzJHyio2",
        "outputId": "da1a6266-e9c6-45c3-bd59-65c09e3fa566"
      },
      "execution_count": 15,
      "outputs": [
        {
          "output_type": "stream",
          "name": "stdout",
          "text": [
            "0\n",
            "1\n",
            "4\n",
            "9\n",
            "16\n",
            "25\n",
            "36\n",
            "49\n",
            "64\n",
            "81\n"
          ]
        }
      ]
    },
    {
      "cell_type": "code",
      "source": [
        "import io\n",
        "fake_file = io.StringIO(\"Первая строка.\\nВторая строка.\\nТретья строка.\\n\")\n",
        "def read_file(file):\n",
        "  for line in file:\n",
        "    yield line.strip()\n",
        "\n",
        "for line in read_file(fake_file):\n",
        "  print(line)\n"
      ],
      "metadata": {
        "colab": {
          "base_uri": "https://localhost:8080/"
        },
        "id": "Y7L790pP6YCo",
        "outputId": "221d6581-e8c3-4c8b-b0c9-9ffe7631719a"
      },
      "execution_count": 19,
      "outputs": [
        {
          "output_type": "stream",
          "name": "stdout",
          "text": [
            "Первая строка.\n",
            "Вторая строка.\n",
            "Третья строка.\n"
          ]
        }
      ]
    }
  ]
}