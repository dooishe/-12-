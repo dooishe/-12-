{
  "nbformat": 4,
  "nbformat_minor": 0,
  "metadata": {
    "colab": {
      "provenance": [],
      "authorship_tag": "ABX9TyMoQ2+So8fsS77xsmJegHcL",
      "include_colab_link": true
    },
    "kernelspec": {
      "name": "python3",
      "display_name": "Python 3"
    },
    "language_info": {
      "name": "python"
    }
  },
  "cells": [
    {
      "cell_type": "markdown",
      "metadata": {
        "id": "view-in-github",
        "colab_type": "text"
      },
      "source": [
        "<a href=\"https://colab.research.google.com/github/dooishe/-12-/blob/main/%D0%9E%D0%9E%D0%9F_%D0%BB%D0%B5%D0%BA%D1%86%D0%B8%D1%8F_2_%D0%B7%D0%B0%D0%B4%D0%B0%D1%87%D0%B8_%D0%B4%D0%BE_%D1%81%D1%82%D1%80_83.ipynb\" target=\"_parent\"><img src=\"https://colab.research.google.com/assets/colab-badge.svg\" alt=\"Open In Colab\"/></a>"
      ]
    },
    {
      "cell_type": "markdown",
      "source": [
        " Создайте класс Profile с полями имя пользователя, электронная почта и дата рождения. Реализуйте методы update_email(new_email), который обновляет электронную почту, и display_info(), который выводит информацию о профиле."
      ],
      "metadata": {
        "id": "jb3KKOqEpxUK"
      }
    },
    {
      "cell_type": "code",
      "source": [
        "class Profile:\n",
        "    def __init__(self, name, email, birthday):\n",
        "        self.name = name\n",
        "        self.email = email\n",
        "        self.birthday = birthday\n",
        "\n",
        "    def display_info(self):\n",
        "        print(f\"Имя: {self.name}, Email: {self.email}, Дата Рождения: {self.birthday}\")\n",
        "\n",
        "    def update_email(self, new_email):\n",
        "        if \"@mail.ru\" in new_email:\n",
        "            self.email = new_email\n",
        "        else:\n",
        "            print(\"email должени содержать @mail.ru\")\n",
        "\n",
        "\n",
        "profile = Profile(\"Timur\", \"tugievzx@mail.ru\", \"20.06.2005\")\n",
        "profile.display_info()\n",
        "profile.update_email(\"tugievtimur@mail.ru\")\n",
        "profile.display_info()"
      ],
      "metadata": {
        "colab": {
          "base_uri": "https://localhost:8080/"
        },
        "id": "UdVtyOWCpw8w",
        "outputId": "9985225b-8033-40e7-e848-7ebffc91f322"
      },
      "execution_count": 15,
      "outputs": [
        {
          "output_type": "stream",
          "name": "stdout",
          "text": [
            "Имя: Timur, Email: tugievzx@mail.ru, Дата Рождения: 20.06.2005\n",
            "Имя: Timur, Email: tugievtimur@mail.ru, Дата Рождения: 20.06.2005\n"
          ]
        }
      ]
    },
    {
      "cell_type": "markdown",
      "source": [
        " Определите класс Client, который наследуется от класса Profile. Класс Client должен добавлять поле баланс и методы для обновления баланса и отображения информации о клиенте."
      ],
      "metadata": {
        "id": "KogvktqRslae"
      }
    },
    {
      "cell_type": "code",
      "source": [
        "class Profile:\n",
        "    def __init__(self, name, email, birthday):\n",
        "        self.name = name\n",
        "        self.email = email\n",
        "        self.birthday = birthday\n",
        "\n",
        "    def __str__(self):\n",
        "        return (f\"Имя: {self.name}, Email: {self.email}, Дата Рождения: {self.birthday}\")\n",
        "\n",
        "    def update_email(self, new_email):\n",
        "        if \"@mail.ru\" in  new_email:\n",
        "            self.email = new_email\n",
        "        else:\n",
        "            print(\"email должени содержать @mail.ru\")\n",
        "\n",
        "class Client(Profile):\n",
        "    def __init__(self, balance):\n",
        "        self.balance = balance\n",
        "\n",
        "    def add(self, sum):\n",
        "        self.balance += sum\n",
        "\n",
        "    def withdraw(self, sum):\n",
        "        if self.balance >= sum:\n",
        "            balance -= sum\n",
        "        else:\n",
        "            print(\"на балансе недостаточно денег\")\n",
        "\n",
        "profile = Profile(\"Timur\", \"tugievzx@mail.ru\", \"20.06.2005\")\n",
        "print(profile)\n",
        "profile.update_email(\"tugievtimur@mail.ru\")\n",
        "print(profile)\n",
        "\n"
      ],
      "metadata": {
        "colab": {
          "base_uri": "https://localhost:8080/"
        },
        "id": "9qNGlFpMsltI",
        "outputId": "8dde83ce-c1d5-4cdd-cfd7-23dcec24b34f"
      },
      "execution_count": 44,
      "outputs": [
        {
          "output_type": "stream",
          "name": "stdout",
          "text": [
            "Имя: Timur, Email: tugievzx@mail.ru, Дата Рождения: 20.06.2005\n",
            "Имя: Timur, Email: tugievtimur@mail.ru, Дата Рождения: 20.06.2005\n"
          ]
        }
      ]
    },
    {
      "cell_type": "code",
      "source": [
        "class Profile:\n",
        "    def __init__(self, name, email, birthday):\n",
        "        self.name = name\n",
        "        self.email = email\n",
        "        self.birthday = birthday\n",
        "\n",
        "    def display_info(self):\n",
        "        print(f\"Имя: {self.name}, Email: {self.email}, Дата Рождения: {self.birthday}\")\n",
        "\n",
        "    def update_email(self, new_email):\n",
        "        if \"@mail.ru\" in  new_email:\n",
        "            self.email = new_email\n",
        "        else:\n",
        "            print(\"email должени содержать @mail.ru\")\n",
        "\n",
        "class Client(Profile):\n",
        "    def __init__(self, name, email, birthday, balance):\n",
        "        super().__init__(name, email, birthday)\n",
        "        self.balance = balance\n",
        "\n",
        "    def add(self, sum):\n",
        "        self.balance += sum\n",
        "\n",
        "    def withdraw(self, sum):\n",
        "        if self.balance >= sum:\n",
        "            self.balance -= sum\n",
        "        else:\n",
        "            print(\"на балансе недостаточно денег\")\n",
        "    def __str__(self):\n",
        "        return (f\"Имя: {self.name}, Email: {self.email}, Дата Рождения: {self.birthday} \\nБаланс: {self.balance}\")\n",
        "    def display_client_info(self):\n",
        "        super().display_info()\n",
        "        print(f\"Баланс: {self.balance}\")\n",
        "\n",
        "\n",
        "client = Client(\"Timur\", \"tugievzx@mail.ru\", \"20.06.2005\",400)\n",
        "client.display_client_info()\n",
        "client.add(300)\n",
        "client.display_client_info()\n",
        "client.withdraw(800)\n",
        "client.withdraw(200)\n",
        "print(client)\n"
      ],
      "metadata": {
        "colab": {
          "base_uri": "https://localhost:8080/"
        },
        "outputId": "fe73de68-c102-4bcc-f40c-329a520c6eb6",
        "id": "-5LXyFOdvNqh"
      },
      "execution_count": 50,
      "outputs": [
        {
          "output_type": "stream",
          "name": "stdout",
          "text": [
            "Имя: Timur, Email: tugievzx@mail.ru, Дата Рождения: 20.06.2005\n",
            "Баланс: 400\n",
            "Имя: Timur, Email: tugievzx@mail.ru, Дата Рождения: 20.06.2005\n",
            "Баланс: 700\n",
            "на балансе недостаточно денег\n",
            "Имя: Timur, Email: tugievzx@mail.ru, Дата Рождения: 20.06.2005 \n",
            "Баланс: 500\n"
          ]
        }
      ]
    },
    {
      "cell_type": "markdown",
      "source": [
        "Создать класс Client, в котором поля name, idNumber и balance будут приватными. Реализовать методы для безопасного изменения баланса и доступа к имени и идентификационному номеру клиента."
      ],
      "metadata": {
        "id": "Qg8l-Jj_2dvG"
      }
    },
    {
      "cell_type": "code",
      "source": [
        "class Client():\n",
        "\n",
        "    def __init__(self,name, idNumber, balance):\n",
        "        self.__name = name\n",
        "        self.__idNumber = idNumber\n",
        "        self.__balance = balance\n",
        "    def get_name(self): return self.__name\n",
        "    def get_idNumber(self): return self.__idNumber\n",
        "    def get_balance(self): return self.__balance\n",
        "\n",
        "    def add(self, sum):\n",
        "        self.__balance += sum\n",
        "\n",
        "    def withdraw(self, sum):\n",
        "        if self.__balance >= sum:\n",
        "            self.__balance -= sum\n",
        "        else:\n",
        "            print(\"на балансе недостаточно денег\")\n",
        "\n",
        "client = Client(\"Timur\", \"4i434\", 100000)\n",
        "print(\"name:\", client.get_name())\n",
        "print(\"idNumber\", client.get_idNumber())\n",
        "print(\"balance:\", client.get_balance())\n",
        "\n"
      ],
      "metadata": {
        "colab": {
          "base_uri": "https://localhost:8080/"
        },
        "id": "Tu7x2ccKtRs8",
        "outputId": "d4966ce3-2967-4b3c-c6a6-e586c26284c6"
      },
      "execution_count": 35,
      "outputs": [
        {
          "output_type": "stream",
          "name": "stdout",
          "text": [
            "name: Timur\n",
            "idNumber 4i434\n",
            "balance: 100000\n"
          ]
        }
      ]
    },
    {
      "cell_type": "markdown",
      "source": [
        "Компания и отдел.  Создайте класс `Компания`, который может содержать несколько отделов. Реализуйте метод для добавления отдела с его названием. Класс `Отдел` должен иметь поле `название отдела`. Отделы не могут существовать без компании."
      ],
      "metadata": {
        "id": "V-ypA90BMmvn"
      }
    },
    {
      "cell_type": "code",
      "source": [
        "class Company:\n",
        "  default_name = \"unknown\"\n",
        "  def __init__(self):\n",
        "    self.__departments = []\n",
        "\n",
        "\n",
        "  def add(self, name):\n",
        "    self.__departments.append(self.Department(name))\n",
        "\n",
        "  def display_info(self):\n",
        "    print(\"Список отделов:\")\n",
        "    for dep in self.__departments:\n",
        "      print(dep)\n",
        "\n",
        "  class Department():\n",
        "    default_name = \"unknown\"\n",
        "    def __init__(self, name):\n",
        "      if name:\n",
        "        self.__name = name\n",
        "      else: self.__name = self.default_name\n",
        "    @property\n",
        "    def name(self): return self.__name\n",
        "    @name.setter\n",
        "    def name(self, name):\n",
        "      if name:\n",
        "        self.__name = name\n",
        "      else: self.__name = self.default_name\n",
        "    def __str__(self):\n",
        "      return f\"Название отдела: {self.name}\"\n",
        "\n",
        "\n",
        "\n",
        "my_company = Company()\n",
        "my_company.add(\"Frontend\")\n",
        "my_company.add(\"Backend\")\n",
        "my_company.display_info()\n",
        "\n",
        ""
      ],
      "metadata": {
        "colab": {
          "base_uri": "https://localhost:8080/"
        },
        "id": "uU0myJ2_Mm2M",
        "outputId": "b34fb64f-6da7-46be-b2a0-b83b6d24d4f9"
      },
      "execution_count": 6,
      "outputs": [
        {
          "output_type": "stream",
          "name": "stdout",
          "text": [
            "Список отделов:\n",
            "Название отдела: Frontend\n",
            "Название отдела: Backend\n",
            "fs\n"
          ]
        }
      ]
    },
    {
      "cell_type": "markdown",
      "source": [
        " Город и здание. Создайте класс `Город`, который содержит здания. Класс `Здание` должен иметь поля `название` и `адрес`. Здания могут существовать независимо от города."
      ],
      "metadata": {
        "id": "7aYSe1_KOhnF"
      }
    },
    {
      "cell_type": "code",
      "source": [
        "class Bilding():\n",
        "  def __init__(self, name, address):\n",
        "    self.__name = name\n",
        "    self.__address = address\n",
        "  @property\n",
        "  def name(self): return self.__name\n",
        "  @property\n",
        "  def address(self): return self.__address\n",
        "  def display_info(self):\n",
        "    print(f\"Название здания: {self.name}, адресс: {self.address}\")\n",
        "class City():\n",
        "  def __init__(self):\n",
        "    self.__Bildings = []\n",
        "  def add(self, bilding):\n",
        "    self.__Bildings.append(bilding)\n",
        "  def display_info(self):\n",
        "    for bild in self.__Bildings:\n",
        "       bild.display_info()\n",
        "\n",
        "bilding1 = Bilding(\"school № 1\", \"yл Ленина 12\")\n",
        "bilding2 = Bilding(\"main hospital\", \"yл Ломоносава 77\")\n",
        "bilding3 = Bilding(\"bank\", \"ул Черниговская 4\")\n",
        "\n",
        "city = City()\n",
        "city.add(bilding1)\n",
        "city.add(bilding2)\n",
        "city.add(bilding3)\n",
        "city.display_info()"
      ],
      "metadata": {
        "colab": {
          "base_uri": "https://localhost:8080/"
        },
        "id": "FeO_uWS-Ohx4",
        "outputId": "cc7505d2-e652-4409-9d47-8eedccffd1c6"
      },
      "execution_count": 14,
      "outputs": [
        {
          "output_type": "stream",
          "name": "stdout",
          "text": [
            "Название здания: school № 1, адресс: yл Ленина 12\n",
            "Название здания: main hospital, адресс: yл Ломоносава 77\n",
            "Название здания: bank, адресс: ул Черниговская 4\n"
          ]
        }
      ]
    },
    {
      "cell_type": "markdown",
      "source": [
        "Создать абстрактный класс DisplayDevice с абстрактным методом display(). Реализовать подклассы Monitor и Projector, которые реализуют метод display().\n"
      ],
      "metadata": {
        "id": "cCCnT2etbNC_"
      }
    },
    {
      "cell_type": "code",
      "source": [
        "import abc\n",
        "class DisplayDevice(abc.ABC):\n",
        "  @abc.abstractmethod\n",
        "  def display(self):\n",
        "      pass\n",
        "class Monitor(DisplayDevice):\n",
        "  def display(self):\n",
        "    print(\"показать на мониторе\")\n",
        "class Projector(DisplayDevice):\n",
        "  def display(self):\n",
        "    print(\"вывести изображение на проекторе\")\n",
        "\n",
        "def show(disp):\n",
        "  disp.display()\n",
        "\n",
        "\n",
        "objects = {Monitor(), Projector()}\n",
        "for object in objects:\n",
        "  show(object)"
      ],
      "metadata": {
        "colab": {
          "base_uri": "https://localhost:8080/"
        },
        "id": "3bjOwM31bLrD",
        "outputId": "6eb1839c-f391-4c6e-d0c7-d53b20875070"
      },
      "execution_count": 27,
      "outputs": [
        {
          "output_type": "stream",
          "name": "stdout",
          "text": [
            "показать на мониторе\n",
            "вывести изображение на проекторе\n"
          ]
        }
      ]
    },
    {
      "cell_type": "markdown",
      "source": [
        "Создать интерфейс IProfile, который содержит методы updateEmail(String email) и getProfileInfo(). Создать класс Profile, реализующий этот интерфейс. Класс должен содержать поля username, email и birthDate.\n"
      ],
      "metadata": {
        "id": "-qArOnEovOif"
      }
    },
    {
      "cell_type": "code",
      "source": [
        "from abc import abstractmethod\n",
        "\n",
        "class IProfile():\n",
        "  @abc.abstractmethod\n",
        "  def updateEmail(self, email): pass\n",
        "  @abc.abstractmethod\n",
        "  def getProfileInfo(self, email): pass\n",
        "class Profile(IProfile):\n",
        "  def __init__(self, username, email, birthDate):\n",
        "    self.__username = username\n",
        "    self.__email = email\n",
        "    self.__birthDate = birthDate\n",
        "  def updateEmail(self, email):\n",
        "    self.__email = email\n",
        "  def getProfileInfo(self):\n",
        "    return f\"username: {self.__username}, email: {self.__email}, birhDate: {self.__birthDate}\"\n",
        "\n",
        "profile = Profile(\"TIMUR\", \"tugievzx@mail.ru\", \"20.06.2005\")\n",
        "print(profile.getProfileInfo())\n",
        "\n"
      ],
      "metadata": {
        "colab": {
          "base_uri": "https://localhost:8080/"
        },
        "id": "7fNrcbXCvOoG",
        "outputId": "365d84c0-f307-478e-cb4f-fb3f36c9e437"
      },
      "execution_count": 40,
      "outputs": [
        {
          "output_type": "stream",
          "name": "stdout",
          "text": [
            "username: TIMUR, email: tugievzx@mail.ru, birhDate: 20.06.2005\n"
          ]
        }
      ]
    },
    {
      "cell_type": "markdown",
      "source": [
        "Определите метод makePurchase() в классе Client, который будет осуществлять покупку. Создайте подклассы VIPClient и RegularClient, которые будут переопределять этот метод для различных условий покупки."
      ],
      "metadata": {
        "id": "JGKM9jiq0Atk"
      }
    },
    {
      "cell_type": "code",
      "source": [
        "class makePurchase():\n",
        "  def makePurchase():\n",
        "    raise NotImplementedError\n",
        "class VIPClient(makePurchase):\n",
        "  def makePurchase():\n",
        "    print(\"VIPClient - вам выделяется отдельная комната от основного зала\")\n",
        "\n",
        "class RegularClient(makePurchase):\n",
        "  def makePurchase():\n",
        "    print(\"RegularClient - для вас будет выбор между свободными столиками в основном зале\")\n",
        "\n",
        "def makePurchase(client : makePurchase):\n",
        "  client.makePurchase()\n",
        "\n",
        "vipClient = VIPClient\n",
        "regClient = RegularClient\n",
        "makePurchase(vipClient)\n",
        "makePurchase(regClient)"
      ],
      "metadata": {
        "colab": {
          "base_uri": "https://localhost:8080/"
        },
        "id": "VyrkOrBX0AhE",
        "outputId": "dfdd51da-d0c5-493d-afc2-90b59b1ecf21"
      },
      "execution_count": 46,
      "outputs": [
        {
          "output_type": "stream",
          "name": "stdout",
          "text": [
            "VIPClient - вам выделяется отдельная комната от основного зала\n",
            "RegularClient - для вас будет выбор между свободными столиками в основном зале\n"
          ]
        }
      ]
    },
    {
      "cell_type": "code",
      "source": [],
      "metadata": {
        "id": "UqOaSyT791jR"
      },
      "execution_count": null,
      "outputs": []
    }
  ]
}
