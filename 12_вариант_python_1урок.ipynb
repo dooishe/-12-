{
  "nbformat": 4,
  "nbformat_minor": 0,
  "metadata": {
    "colab": {
      "provenance": [],
      "authorship_tag": "ABX9TyPxzyd4CmFUg8BAXa1H7y+I",
      "include_colab_link": true
    },
    "kernelspec": {
      "name": "python3",
      "display_name": "Python 3"
    },
    "language_info": {
      "name": "python"
    }
  },
  "cells": [
    {
      "cell_type": "markdown",
      "metadata": {
        "id": "view-in-github",
        "colab_type": "text"
      },
      "source": [
        "<a href=\"https://colab.research.google.com/github/dooishe/-12-/blob/main/12_%D0%B2%D0%B0%D1%80%D0%B8%D0%B0%D0%BD%D1%82_python_1%D1%83%D1%80%D0%BE%D0%BA.ipynb\" target=\"_parent\"><img src=\"https://colab.research.google.com/assets/colab-badge.svg\" alt=\"Open In Colab\"/></a>"
      ]
    },
    {
      "cell_type": "markdown",
      "source": [
        "12 вариант 1-ая самостоятельная.работа\n",
        "\n",
        "![Снимок экрана 2025-03-15 151739.png](data:image/png;base64,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)"
      ],
      "metadata": {
        "id": "gdtGHpLgEwWK"
      }
    },
    {
      "cell_type": "code",
      "execution_count": null,
      "metadata": {
        "colab": {
          "base_uri": "https://localhost:8080/"
        },
        "id": "mYMSDFJUyPiu",
        "outputId": "37b9c7b6-4103-4355-93d6-5822fa884a11"
      },
      "outputs": [
        {
          "output_type": "stream",
          "name": "stdout",
          "text": [
            "введите x = 1\n",
            "введите y = 5\n",
            "1.2\n"
          ]
        }
      ],
      "source": [
        "x = int(input(\"введите x = \"))\n",
        "y = int(input(\"введите y = \"))\n",
        "w = (x + y)/(y + 1) - (x * y - 12)/(34 + x)\n",
        "print(w)"
      ]
    },
    {
      "cell_type": "markdown",
      "source": [
        "12 вариант 1-ая самостоятельная.работа\n",
        "\n",
        "![Снимок экрана 2025-03-15 151837.png](data:image/png;base64,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)"
      ],
      "metadata": {
        "id": "pDJ2x6lHFSjO"
      }
    },
    {
      "cell_type": "code",
      "source": [
        "import math\n",
        "x = math.pi / 2\n",
        "y = math.exp(x) * math.sin(x) + math.log(math.sin(x))\n",
        "print(y)"
      ],
      "metadata": {
        "id": "s3-MkCfY2dAf",
        "colab": {
          "base_uri": "https://localhost:8080/"
        },
        "outputId": "2a495df2-277c-4390-d683-45d0e5cba6cc"
      },
      "execution_count": null,
      "outputs": [
        {
          "output_type": "stream",
          "name": "stdout",
          "text": [
            "4.810477380965351\n"
          ]
        }
      ]
    },
    {
      "cell_type": "markdown",
      "source": [
        "3-ая задача 12 вариант 1-ая самостоятельная.работа\n",
        "\n",
        "Дано a. Не используя никаких функций и никаких операций, кроме умножения, получить a8 за три операции и a10 за четыре операции."
      ],
      "metadata": {
        "id": "aBiCnhnRFYpx"
      }
    },
    {
      "cell_type": "code",
      "source": [
        "a = int(input(\"введите a = \"))\n",
        "a2 = a * a\n",
        "a4 = a2 * a2\n",
        "a8 = a4 * a4\n",
        "a10 = a8 * a2\n",
        "print(a8)\n",
        "print(a10)"
      ],
      "metadata": {
        "colab": {
          "base_uri": "https://localhost:8080/"
        },
        "id": "6OkvRXYpFbF1",
        "outputId": "6c526f9e-d08d-40b3-8424-78d70599adca"
      },
      "execution_count": null,
      "outputs": [
        {
          "output_type": "stream",
          "name": "stdout",
          "text": [
            "введите a = 2\n",
            "256\n",
            "1024\n"
          ]
        }
      ]
    },
    {
      "cell_type": "markdown",
      "source": [
        "4-ая задача 12 вариант 1-ая самостоятельная.работа\n",
        "\n",
        "Дано трехзначное число. Вывести число, полученное при перестановке цифр сотен и десятков исходного числа (например, 123 перейдет в 213)"
      ],
      "metadata": {
        "id": "-7XDtx3AHaJg"
      }
    },
    {
      "cell_type": "code",
      "source": [
        "num = int(input(\"введите num = \"))\n",
        "hundreds = num // 100\n",
        "tens = num // 10 % 10\n",
        "units = num % 10\n",
        "new_num = tens*100 + hundreds*10 + units\n",
        "print(new_num)\n",
        "\n",
        "\n",
        "\n"
      ],
      "metadata": {
        "colab": {
          "base_uri": "https://localhost:8080/"
        },
        "id": "brV-6BzFHZRG",
        "outputId": "feaf156f-715a-4aa8-b299-4222be6c8e90"
      },
      "execution_count": null,
      "outputs": [
        {
          "output_type": "stream",
          "name": "stdout",
          "text": [
            "введите num = 104\n",
            "14\n"
          ]
        }
      ]
    },
    {
      "cell_type": "markdown",
      "source": [
        "5-ая задача 12 вариант 1-ая самостоятельная.работа\n",
        "\n",
        "Дано целое число A. Проверить истинность высказывания: «Число A является четным»."
      ],
      "metadata": {
        "id": "P0dJT8TDMkMz"
      }
    },
    {
      "cell_type": "code",
      "source": [
        "A = int(input(\"введите A = \"))\n",
        "b = A % 2 == 0\n",
        "print(b)"
      ],
      "metadata": {
        "colab": {
          "base_uri": "https://localhost:8080/"
        },
        "id": "bGvmtLX6Mjq0",
        "outputId": "f9c1f32f-b412-4512-a2da-34511cef093f"
      },
      "execution_count": null,
      "outputs": [
        {
          "output_type": "stream",
          "name": "stdout",
          "text": [
            "введите A = 3\n",
            "False\n"
          ]
        }
      ]
    },
    {
      "cell_type": "markdown",
      "source": [
        "12 вариант 2-ая самостоятельная.работа\n",
        "\n",
        "![Снимок экрана 2025-03-15 145943.png](data:image/png;base64,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)"
      ],
      "metadata": {
        "id": "nIRSq8IyP-pD"
      }
    },
    {
      "cell_type": "code",
      "source": [
        "x = float(input(\"введите х = \"))\n",
        "result = -(x ** 2) + 3 * x + 9 if (x <= 3) else x / ((x ** 2) + 1)\n",
        "print(result)\n"
      ],
      "metadata": {
        "id": "m6e9at-WQDLw",
        "colab": {
          "base_uri": "https://localhost:8080/"
        },
        "outputId": "b812ca24-59e1-4e44-941a-30a7e18fe2eb"
      },
      "execution_count": null,
      "outputs": [
        {
          "output_type": "stream",
          "name": "stdout",
          "text": [
            "введите х = 4\n",
            "0.23529411764705882\n"
          ]
        }
      ]
    },
    {
      "cell_type": "markdown",
      "source": [
        "2-ая задача 12 вариант 2-ая самостоятельная.работа\n",
        "\n",
        "Определить , является ли треугольник со сторонами a, b, c равнобедренным"
      ],
      "metadata": {
        "id": "US7VpVWHvrAg"
      }
    },
    {
      "cell_type": "code",
      "source": [
        "a = int(input(\"введите a = \"))\n",
        "b = int(input(\"введите b = \"))\n",
        "c = int(input(\"введите с = \"))\n",
        "result = a == b or a == c or b == c\n",
        "print(result)"
      ],
      "metadata": {
        "colab": {
          "base_uri": "https://localhost:8080/"
        },
        "id": "yrKvwUwewA87",
        "outputId": "9874d661-b977-4462-c5f3-493a520f948b"
      },
      "execution_count": null,
      "outputs": [
        {
          "output_type": "stream",
          "name": "stdout",
          "text": [
            "введите a = 4\n",
            "введите b = 6\n",
            "введите с = 8\n",
            "False\n"
          ]
        }
      ]
    },
    {
      "cell_type": "markdown",
      "source": [
        "3-ая задача 12 вариант 2-ая самостоятельная.работа\n",
        "\n",
        "Составить программу, осуществляющую перевод величин из радианной меры в градусную или наоборот. Программа должна запрашивать, какой перевод нужно осуществить, и выполнять указанное действие."
      ],
      "metadata": {
        "id": "Xa3ZcUqwxVX7"
      }
    },
    {
      "cell_type": "code",
      "source": [
        "import math\n",
        "x = float(input(\"введите x = \"))\n",
        "choice = int(input(\"введите 0, если хотите перевести x в радианы, любое другое число, если в градусы = \"))\n",
        "if (choice == 0):\n",
        "  print(\"значение x в радианах = \",x * (math.pi/180))\n",
        "else :\n",
        "  print(\"значение x в градусах = \",x * (180/math.pi))\n"
      ],
      "metadata": {
        "colab": {
          "base_uri": "https://localhost:8080/"
        },
        "id": "GSD1XnumxVrF",
        "outputId": "e770cee9-213f-4f85-c922-073125b3c00f"
      },
      "execution_count": null,
      "outputs": [
        {
          "output_type": "stream",
          "name": "stdout",
          "text": [
            "введите x = 1.57\n",
            "введите 0, если хотите перевести x в радианы, любое другое число, если в градусы = 8\n",
            "значение x в градусах =  89.95437383553924\n"
          ]
        }
      ]
    },
    {
      "cell_type": "markdown",
      "source": [
        "4-ая задача 12 вариант 2-ая самостоятельная.работа\n",
        "\n",
        "Даны два прямоугольника, стороны которых параллельны или перпендикулярны осям координат. Известны координаты левого нижнего и правого нижнего углов каждого из них. Найти координаты левого нижнего и правого верхнего углов минимального прямоугольника, содержащего указанные прямоугольники."
      ],
      "metadata": {
        "id": "96Z3RbBtL7yO"
      }
    },
    {
      "cell_type": "code",
      "source": [
        "xl1 = int(input(\"введите xl1 = \"))\n",
        "yl1 = int(input(\"введите yl1 = \"))\n",
        "xr1 = int(input(\"введите xr1 = \"))\n",
        "yr1 = int(input(\"введите yr1 = \"))\n",
        "\n",
        "xl2 = int(input(\"введите xl2 = \"))\n",
        "yl2 = int(input(\"введите yl2 = \"))\n",
        "xr2 = int(input(\"введите xr2 = \"))\n",
        "yr2 = int(input(\"введите yr2 = \"))\n",
        "\n",
        "mxl = min(xl1,xl2)\n",
        "myl = min(yl1,yl2)\n",
        "mxr = max(xr1,xr2)\n",
        "myr = max(yr1,yr2)\n",
        "\n",
        "print(f\"минимальный левый нижний угол = ({mxl},{myl})\")\n",
        "print(f\"минимальный правый верхний угол = ({mxr},{myr})\")"
      ],
      "metadata": {
        "colab": {
          "base_uri": "https://localhost:8080/"
        },
        "id": "YT-b3cdQUmbR",
        "outputId": "81314c9e-81a7-4dcd-9ee6-930c8544f477"
      },
      "execution_count": null,
      "outputs": [
        {
          "output_type": "stream",
          "name": "stdout",
          "text": [
            "введите xl1 = 1\n",
            "введите yl1 = 1\n",
            "введите xr1 = 4\n",
            "введите yr1 = 3\n",
            "введите xl2 = 2\n",
            "введите yl2 = 2\n",
            "введите xr2 = 5\n",
            "введите yr2 = 4\n",
            "минимальный левый нижний угол = (1,1)\n",
            "минимальный правый верхний угол = (5,4)\n"
          ]
        }
      ]
    },
    {
      "cell_type": "code",
      "source": [
        "xl1 = int(input(\"введите xl1 = \"))\n",
        "yl1 = int(input(\"введите yl1 = \"))\n",
        "xr1 = int(input(\"введите xr1 = \"))\n",
        "yr1 = int(input(\"введите yr1 = \"))\n",
        "\n",
        "xl2 = int(input(\"введите xl2 = \"))\n",
        "yl2 = int(input(\"введите yl2 = \"))\n",
        "xr2 = int(input(\"введите xr2 = \"))\n",
        "yr2 = int(input(\"введите yr2 = \"))\n",
        "\n",
        "mxl = xl1 if xl1 < xl2 else xl2\n",
        "myl = yl1 if yl1 < yl2 else yl2\n",
        "mxr = xr1 if xr1 > xr2 else xr2\n",
        "myr = yr1 if yr1 > yr2 else yr2\n",
        "\n",
        "print(f\"минимальный левый нижний угол = ({mxl},{myl})\")\n",
        "print(f\"минимальный правый верхний угол = ({mxr},{myr})\")\n"
      ],
      "metadata": {
        "colab": {
          "base_uri": "https://localhost:8080/"
        },
        "id": "QFe8Dji7MECi",
        "outputId": "faef47db-196e-40b4-c992-a96528cf4a8e"
      },
      "execution_count": null,
      "outputs": [
        {
          "output_type": "stream",
          "name": "stdout",
          "text": [
            "введите xl1 = 1\n",
            "введите yl1 = 1\n",
            "введите xr1 = 4\n",
            "введите yr1 = 3\n",
            "введите xl2 = 2\n",
            "введите yl2 = 2\n",
            "введите xr2 = 5\n",
            "введите yr2 = 4\n",
            "минимальный левый нижний угол = (1,1)\n",
            "минимальный правый верхний угол = (5,4)\n"
          ]
        }
      ]
    },
    {
      "cell_type": "markdown",
      "source": [
        "5-ая задача 12 вариант 2-ая самостоятельная.работа\n",
        "\n",
        "Поле шахматной доски определяется парой натуральных чисел, каждое из которых не превосходит 8: первое число — номер вертикали (при счете слева направо), второе — номер горизонтали (при счете снизу вверх). Даны натуральные числа a, b, c, d, каждое из которых не превосходит 8. На поле (a, b) расположена белая пешка. Определить, может ли она одним ходом попасть на поле (c, d):при обычном ходе; когда она \"бьет\" фигуру или пешку соперника;\n",
        "\n",
        "Примечание. Белые пешки перемещаются на доске снизу вверх."
      ],
      "metadata": {
        "id": "UTfrNJnGVMsl"
      }
    },
    {
      "cell_type": "code",
      "source": [
        "a = int(input(\"введите a = \"))\n",
        "b = int(input(\"введите b = \"))\n",
        "c = int(input(\"введите c = \"))\n",
        "d = int(input(\"введите d = \"))\n",
        "\n",
        "result = (d + 1 == b) and (a - 1 <= c <= a + 1)\n",
        "print(result)\n",
        "\n"
      ],
      "metadata": {
        "colab": {
          "base_uri": "https://localhost:8080/"
        },
        "id": "KR17nQBXVXKP",
        "outputId": "276044a0-0943-43f0-abdb-7138700a72f9"
      },
      "execution_count": null,
      "outputs": [
        {
          "output_type": "stream",
          "name": "stdout",
          "text": [
            "введите a = 4\n",
            "введите b = 7\n",
            "введите c = 5\n",
            "введите d = 5\n",
            "False\n"
          ]
        }
      ]
    },
    {
      "cell_type": "markdown",
      "source": [
        "1-ая задача 12 вариант 3-ая самостоятельная.работа\n",
        "\n",
        "![Снимок экрана 2025-03-16 193616.png](data:image/png;base64,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)"
      ],
      "metadata": {
        "id": "dFMxjgZOz9jU"
      }
    },
    {
      "cell_type": "code",
      "source": [
        "k = int(input(\"введите k(k > 3) = \"))\n",
        "\n",
        "for m in range(2, k):\n",
        "    for n in range(2, k):\n",
        "        if(m > n):\n",
        "            a = m ** 2 - n ** 2\n",
        "            b = 2 * m * n\n",
        "            c = m ** 2 + n ** 2\n",
        "            print(m ,n ,a ,b ,c)"
      ],
      "metadata": {
        "colab": {
          "base_uri": "https://localhost:8080/"
        },
        "id": "KlfCPmKGz8Rp",
        "outputId": "de66d456-ff65-4858-dfb1-7a215375e39c"
      },
      "execution_count": null,
      "outputs": [
        {
          "output_type": "stream",
          "name": "stdout",
          "text": [
            "введите k = 5\n",
            "3 2 5 12 13\n",
            "4 2 12 16 20\n",
            "4 3 7 24 25\n"
          ]
        }
      ]
    },
    {
      "cell_type": "markdown",
      "source": [
        "2-ая задача 12 вариант 3-ая самостоятельная.работа\n",
        "\n",
        "Даны натуральное n, действительное х. Вычислить:\n",
        "\n",
        "![Снимок экрана 2025-03-16 211604.png](data:image/png;base64,iVBORw0KGgoAAAANSUhEUgAAAL4AAAAZCAYAAACPbZTLAAAAAXNSR0IArs4c6QAAAARnQU1BAACxjwv8YQUAAAAJcEhZcwAADsMAAA7DAcdvqGQAAA8CSURBVHhe7Zp5TFRn18B/s8KwLyMwCCMoyhJBUSyySE3rkhqsFNtELWo1QtXWtJo2bfpPN9s0Wpe412pVcKlWq43GtdgquAVcWgFZxA2cAs4gDMPAMNv3j9zKaNVR3vfr98kvmWRyz7nnufd5zj3POedekd1ut9NDD88ZYscDPfTwPNDj+D08l/Q4fg/PJaKeHP8/h91up6GhgY6ODqRSKQEBAUgkEke1Hv4X6HH8/yA6nY7Vq1ej1WpxdXXlnXfeQa1WIxKJHFV7eAR2u51ONxWJRN0yf92e6thsNkwmE2az2VH0r8VisdDW1iZMbnexY8cO/Pz8WLp0KSqViu3btz/zvJjNZtrb27v8TCZTt1+7s3Suu8VicRQ9E1arlcbGRmpra7l16xY6nQ6bzeao5jTdHvFra2s5c+YMAQEBvPjii47ifx0Wi4XS0lLy8/OZO3curq6ujipPTU1NDb6+vri5ubFu3TpEIhGzZs1CJpM5qj4xBQUFXLt2TVh8u92OXC4nPT0dHx8fR/X/GjU1NRw/fpzY2FgGDx6MWNw9MVWj0bBmzRpKSkqQyWTExMQwe/ZsVCqVo6pTdM/V3ceNGzfIzc3lyJEjjqJ/JR0dHZw8eZKVK1fS0NDgKH4mQkND8fDwoKKigoMHDzJp0qRncnqAwsJC3NzcmDhxItOnT2fkyJGcOHGCpqYmR9X/KmVlZWzatImioiI6OjocxU9NfX09QUFBLFiwgHnz5hEYGIhWq3VUc5puj/idaYNEIsHNzc1R/K/DbrfT0dGB0WjE29u72yJVJ9XV1Xz44Yd8/fXXDBgw4Jnt5+XlodPpmDZtGn5+fmzbto2GhgaysrLo1auXo/p/DYvFgtFoRC6Xd+uuefjwYa5fv87YsWO5fPkytbW1TJw4kaCgIEdVp5B89tlnnzkefBQWi4VLly6xcuVK1q1bx7Fjx2hra0OtVuPi4sLVq1fZs2cPOp2OqKgoLl++zI4dO7h9+zYHDhxgxYoV/Pbbb0gkEvr16ycUKjdv3mTLli3cvHmTgQMHYrVaKSsrY8WKFTQ3NxMdHe14KbS1tXH16lXMZjOenp6OYgGDwcDu3btZvHgx27Zt49KlSwQGBhIQEIDZbObcuXNs2rSJlJQUbDYbO3fuJD8/H5PJxMKFC9myZQvl5eXExcWhUCjgXk6bn5/P8uXLSU5OFhZ7zZo17Nq1i6SkJLRaLfPnz+fdd99FrVZjtVpxcXF5ZHFmMBgoLi4mICAAqVTqKKakpITevXtjs9mQSCRoNBpMJhMDBw586kBTVVWFwWBAoVA8dEzuBYgzZ86watUq1q9fz6+//ordbicoKAhXV1cqKirYsWMHMpmMkJAQCgoKOHToEDU1Nezbt4/Vq1fz+++/4+HhgUqlErpbV65cYevWrej1esLDwxGLxRQUFJCbm4vZbEaj0WCxWEhOTub8+fOYTCZGjBjxzN0xp8PPqVOnWLhwIdXV1SQnJ6NQKFixYgWrVq3CbDbT0NDA8ePH+eOPPwC4ffs2GzduZOnSpWg0GmJjY9FoNHz77bcUFhYKdl1dXTEYDOTm5lJTU0N1dTWLFi3iypUrxMfH33cFf9PS0sLZs2eprq52FAno9Xp++OEHvvnmG8LDw0lNTaWsrIycnBzKysqwWq1UVlby888/C0X5qVOnWLVqFcuWLSMyMpLIyEjy8vL4/PPPBbsikYiIiAh++eUXdu3ahd1uZ+/evXz55ZcMHjwYNzc3bty4gVqt5tSpU2zatIkdO3Y8tvhrampi3759GI1GR5HAkCFDKC8v5/Dhw8THxz/yoX8SiouLKS0tpa2tzVEkcOzYMRYuXEhDQwMpKSmIxWK++uordu/eTUtLC3V1dRw9elRYi6qqKnJzc1myZAlarZaBAwdSUVHB0qVLKSoqEuwGBARQU1PDnj17qKys5MKFC6xduxaNRoNarSYsLIzo6Gjc3Nzo168fMTExz5wu4qzj2+12qqqqaGhoICMjg6lTpzJnzhwyMjIwmUzodDphyzOZTHBvhxCLxaSmprJgwQKys7OZPHky7e3tFBcXC7b9/f1JTEyko6ODzZs3s337dm7dusXcuXMJCQm57yr+xmazYTQaH9kpaWlp4cSJE0RERDBnzhyysrL4+OOPCQ0Npbq6Wkh1WlpahM5Ie3s7AJ9++inTp0/n7bff5uWXX2b//v1CUSkSiVCpVKSnp7N+/Xr+/PNPPvnkEyZPnsy4ceOQSCTExcXxwQcfMGPGDLKyssjIyPjHiNqJ1Wrtci0PQ6FQ4OHhgcFgwMvL65mjX1tbG+3t7Y8c88yZM1itVjIzM8nKyuKjjz7ipZdeorm5Gb1ej8ViobW1FbPZLMxpR0cH48ePZ968eWRnZ5OZmUljY2OXQOXj40NCQgL19fUcOHCAbdu2YTKZyMzMJCwsjISEBBISEhCLxQwdOpTExMRH7phPilOOLxKJ8PX1xWw2c/jwYU6fPo1MJmPKlCnMmDEDX19fx1MA8PDwICIiArVaTWBgIGq1Gi8vLxobGwUdqVRKVFQUw4YNY+PGjZw4cYKZM2eSlJT0WGd5FC4uLqjVakpLS9m9ezfV1dUMGDCAL774guHDhzuqw7379Pf3Z9CgQQQEBKBSqYiIiBAe7E7kcjmzZ8+mpqaGuXPnEhkZyfz584V58PT0JCQkRPipVKpuWbROrFZrt/W1H0doaChNTU0cOnSIs2fPIpVKycnJ4Y033sDf399RHQBvb2/69+9Pnz59hHUXi8VddhaJRMKIESNQqVRs2LCB8vJyMjMzSUpKQi6X4+HhgYeHBwDu7u7C/2fFaY9KSUnhvffe4/Tp0+Tl5WEymYiOjub1118nLCzMUR3u3dz925NYLEYikTzQj/X09CQ4OJimpibUajXp6eld8laLxUJVVRV79+6Fe/lwSUkJFy9e5OzZs3Bv65wxY4YQBb29vZk5cyZ+fn4UFxdz9OhRZDIZo0aNYtq0aYLt+xGJREil0i6RVC6XY7PZukRFkUiEWq3G09OTixcvkp+fT2hoqCB/UrZu3UptbS02m42mpiYuXLjAsmXLhHpizJgxxMXFIZfL4d7O29LSgkwmw2QyPTCPj+POnTvs37+furo6AM6fP4+rqysXL15EoVAgk8mYOHEiffv2Fc555ZVXEIvFnD9/ns2bNwt1xZtvvklwcPB91v9GKpUilUqFB1MikSASiR7YWfz8/PD390er1TJ+/HhGjx7dbQ7+TzgV8S0WC3K5nKSkJLKzs8nOzmbUqFFUVVWRl5dHbW2t4ylPjNlsFvrpISEh6HQ6IeXoRCwWo1QqSUtLIy0tjcTERCIiIoiNjRWODR06tEvnxG634+3tzaRJk8jJyeGtt94iOjqa3NxcDh482MW+s1gsFtasWYOrqyteXl5Pff9xcXGMGDGCtLQ0XnjhBVQqFUlJScI9BQcHd3kIr1y5Qu/evUlKSqK8vJzW1tYu9h6Hu7s78fHxgv0BAwYQExMjjJmSktJl97bZbEilUl588UVmzJhBTk4OY8eO5eLFi+zcuZPbt293se8MNpuNkydPUlFRgaenJwaDAb1e76jW7Tjl+K2trRw8eJCtW7fi6enJmDFjhFysvLy8S+riDDabjcrKSjZv3oxMJiM7Oxuj0cihQ4e66InFYnr16kVqaiqpqakkJibSr18/YmNjhWPx8fFdtn6tVsuiRYsoKioiKSmJCRMmkJmZiVarpbS0tIt9Z7BarezatYvt27czd+5c0tPTWb16tdNOyD3HT0lJITU1lWHDhqFSqRg+fLhwT46OX1ZWRt++fYmKiqK+vv6x+bkjbm5uxMfHC/b79+9PdHQ0SUlJpKamkpyc/IDjb9u2jZ9++gk/Pz/GjBnDpEmT8PX1pbKykrt373ax7wxFRUX8+OOPBAYGMmXKFP766y/OnTuH1Wp1VH0Ai8WCTqd7qvGdcny5XI5IJKKwsJDFixezZs0atmzZQlVVFQMGDCAgIMDxlCeipqaGvLw8bt26xcyZM3n11VeJjY3lwIEDaDQaR3WnkEgkmM1m1q1bx5IlS9iwYQPbt2/H3d2dhIQER/UnwmazUVhYyPLlyxk9ejSTJ09m1qxZlJSUcOTIEaec0Fm0Wq1QzLe1taFUKrl+/foDu2N3IhaLkcvlHDt2jGXLlrF27Vq+//57NBoNUVFRKJVKx1OeiMrKSqGYfe2115g6dSpKpZKCggJu3LjhqP4AV69e5bvvvmPv3r2P7Eg9DKf6+DKZDH9/fxQKBY2Njeh0OlpbW4mIiCAjI4PIyEja29sxm83ExMQQExOD0WjEZrMRHx9Pnz59ADCZTJhMJiIjI4mKikKj0VBdXU1qairp6el4enoKXYtHTazVasVkMqFSqf7x5Y1cLic0NBSTyURdXR1NTU1YLBbGjRvHuHHjcHFxobW1FYlEwtixY5HJZNy9e5fAwEDhk4vOnFosFjN+/HjsdrsQld5//31UKhUBAQE0Njbi5eXF4MGDn7rg7OyKxcbGCjn9/dTW1uLu7o5IJKK5uRmr1YrBYCA+Pv6p8+KWlhaUSiVBQUEPHVMkEhEUFIRMJkOn06HT6dDr9cTFxTFhwgTCw8OFVvCQIUPo06cPer0ehUJBfHy88HmB0WjEarUyaNAgwsLCuHbtGnV1dYwcOZK0tDQhcIpEIsLDwx8bSHU6nZAixcbGOtUEeao3t+3t7dTV1XHnzh1cXV0JDg4WKnuj0YhOp0OhUKBUKjEYDDQ2NuLt7Y23tzfci1Q6nQ4XFxf8/Pxobm6mubkZpVIp9KSNRiP19fX4+Pj8Y7fIYrFgMBiQy+WPfHljt9vR6/Vcv34ds9mMj48P4eHhSKVSbDYber0erVZLeHg4IpFI+JRYrVYL5zc1NaHVaomIiMBut1NdXY2rq2uXYrbzZVJ4ePh9ozuH2WymsbERpVL50DZlfX09er2+S0ErlUoJDQ19qNM+Cc3NzYjFYtzc3B46Zift7e3U1tZy9+5dFAoFISEheHt7IxKJaG1tRafTCevc1NSEwWDAx8dHeCA7dby8vPD29ubOnTsYjUaUSqWg0+kL9/vLP9HZQu/85NsZnsrxe+jh/zpO5fg99PD/hR7H7+G5pMfxe3gu6XH8Hp5L/gcS/poGWSbyQAAAAABJRU5ErkJggg==)"
      ],
      "metadata": {
        "id": "nhrZE-1gKuhc"
      }
    },
    {
      "cell_type": "code",
      "source": [
        "import math\n",
        "def calculate_expression():\n",
        "    n = int(input(\"введите n(n > 0) = \"))\n",
        "    x = float(input(\"введите x = \"))\n",
        "    return math.sin(x) + math.sin(pow(x, 2)) + math.sin(pow(x, n))\n",
        "result = calculate_expression()\n",
        "print(f\"результат = {result}\")"
      ],
      "metadata": {
        "colab": {
          "base_uri": "https://localhost:8080/"
        },
        "id": "OMZHFra5K9DR",
        "outputId": "d8c1991c-a14b-491b-b614-cf1ab9d737d0"
      },
      "execution_count": null,
      "outputs": [
        {
          "output_type": "stream",
          "name": "stdout",
          "text": [
            "введите n(n > 0) = 3\n",
            "введите x = 2.3\n",
            "результат = -0.48090283064193345\n"
          ]
        }
      ]
    },
    {
      "cell_type": "markdown",
      "source": [
        "3-ая задача 12 вариант 3-ая самостоятельная.работа\n",
        "\n",
        "![image.png](data:image/png;base64,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)"
      ],
      "metadata": {
        "id": "sXtWtrGXOPlM"
      }
    },
    {
      "cell_type": "code",
      "source": [
        "import math\n",
        "e = 1e-3\n",
        "sum = 0.0\n",
        "n = 1\n",
        "while True:\n",
        "    term = (2 ** n)/math.factorial(n - 1)\n",
        "    if(abs(term) < e):\n",
        "        break\n",
        "    sum += term\n",
        "    n += 1\n",
        "print(f\"сумма = {sum}\")"
      ],
      "metadata": {
        "colab": {
          "base_uri": "https://localhost:8080/"
        },
        "id": "G35b8iMbObmm",
        "outputId": "32915073-ee38-4d29-c4b2-62077d2305ec"
      },
      "execution_count": null,
      "outputs": [
        {
          "output_type": "stream",
          "name": "stdout",
          "text": [
            "сумма = 14.777425044091709\n"
          ]
        }
      ]
    },
    {
      "cell_type": "markdown",
      "source": [
        "4-ая задача 12 вариант 3-ая самостоятельная.работа\n",
        "\n",
        "\n",
        "![Снимок экрана 2025-03-16 221136.png](data:image/png;base64,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)\n",
        "\n"
      ],
      "metadata": {
        "id": "OBoCGkcDTfvK"
      }
    },
    {
      "cell_type": "code",
      "source": [
        "N = int(input(\"введите количество чисел = \"))\n",
        "\n",
        "flag = False\n",
        "for i in range(N):\n",
        "  num = int(input(f\"введите число {i + 1} = \"))\n",
        "  if num > 0:\n",
        "    flag = True\n",
        "\n",
        "print(flag)"
      ],
      "metadata": {
        "colab": {
          "base_uri": "https://localhost:8080/"
        },
        "id": "YRbGZVlQXzv8",
        "outputId": "f7dd49c1-6d89-4ffc-9d72-4fbc41da6d9c"
      },
      "execution_count": null,
      "outputs": [
        {
          "output_type": "stream",
          "name": "stdout",
          "text": [
            "введите количество чисел = 3\n",
            "введите число 1 = 2\n",
            "введите число 2 = 0\n",
            "введите число 3 = -6\n",
            "True\n"
          ]
        }
      ]
    },
    {
      "cell_type": "markdown",
      "source": [
        "![Снимок экрана 2025-03-17 135514.png](data:image/png;base64,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)"
      ],
      "metadata": {
        "id": "QsRuABs6vm5M"
      }
    },
    {
      "cell_type": "code",
      "source": [
        "def find_numbers():\n",
        "  for num in range(1000, 10000):\n",
        "    a = num // 1000\n",
        "    b = (num // 100) % 10\n",
        "    c = (num // 10) % 10\n",
        "    d = num % 10\n",
        "    if(len({a, b, c, d}) == 4) :\n",
        "      ab = a * 10 + b\n",
        "      cd = c * 10 + d\n",
        "      sum_digits = a + b + c + d\n",
        "      if(ab - cd == sum_digits):\n",
        "          print(num)\n",
        "\n",
        "\n",
        "find_numbers()"
      ],
      "metadata": {
        "colab": {
          "base_uri": "https://localhost:8080/"
        },
        "id": "2hZwUrJjvtRm",
        "outputId": "d3a16429-f97f-4b64-bd44-7a9261a7d2c9"
      },
      "execution_count": null,
      "outputs": [
        {
          "output_type": "stream",
          "name": "stdout",
          "text": [
            "2109\n",
            "2309\n",
            "2409\n",
            "2509\n",
            "2609\n",
            "2709\n",
            "2809\n",
            "3018\n",
            "3218\n",
            "3418\n",
            "3518\n",
            "3618\n",
            "3718\n",
            "3918\n",
            "4027\n",
            "4127\n",
            "4327\n",
            "4527\n",
            "4627\n",
            "4827\n",
            "4927\n",
            "5036\n",
            "5136\n",
            "5236\n",
            "5436\n",
            "5736\n",
            "5836\n",
            "5936\n",
            "6045\n",
            "6145\n",
            "6245\n",
            "6345\n",
            "6745\n",
            "6845\n",
            "6945\n",
            "7054\n",
            "7154\n",
            "7254\n",
            "7354\n",
            "7654\n",
            "7854\n",
            "7954\n",
            "8063\n",
            "8163\n",
            "8263\n",
            "8463\n",
            "8563\n",
            "8763\n",
            "8963\n",
            "9072\n",
            "9172\n",
            "9372\n",
            "9472\n",
            "9572\n",
            "9672\n",
            "9872\n"
          ]
        }
      ]
    },
    {
      "cell_type": "markdown",
      "source": [
        "![Снимок экрана 2025-03-17 143925.png](data:image/png;base64,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)"
      ],
      "metadata": {
        "id": "AW8iSVEg5ooP"
      }
    },
    {
      "cell_type": "code",
      "source": [
        "D = []\n",
        "for i in range (6):\n",
        "  num = int(input(\"введите число = \"))\n",
        "  D.append(num)\n",
        "\n",
        "def sum_digits_in_massiv(k, m, massiv):\n",
        "  sum = 0\n",
        "  for index in range(k-1, m):\n",
        "    sum += massiv[index]\n",
        "  return sum\n",
        "\n",
        "sum1 = sum_digits_in_massiv(1, 3, D)\n",
        "sum2 = sum_digits_in_massiv(3, 5, D)\n",
        "sum3 = sum_digits_in_massiv(4, 6, D)\n",
        "print(f\"D[1] + D[2] + D[3] = {sum1}\")\n",
        "print(f\"D[3] + D[4] + D[5] = {sum2}\")\n",
        "print(f\"D[4] + D[5] + D[6] = {sum3}\")"
      ],
      "metadata": {
        "id": "9oFhi6Ol5nq0",
        "colab": {
          "base_uri": "https://localhost:8080/"
        },
        "outputId": "22c495a4-d486-4b38-fea2-e36d8870b228"
      },
      "execution_count": null,
      "outputs": [
        {
          "output_type": "stream",
          "name": "stdout",
          "text": [
            "введите число = 3\n",
            "введите число = 3\n",
            "введите число = 6\n",
            "введите число = 5\n",
            "введите число = 8\n",
            "введите число = 2\n",
            "D[1] + D[2] + D[3] = 12.0\n",
            "D[3] + D[4] + D[5] = 19.0\n",
            "D[4] + D[5] + D[6] = 15.0\n"
          ]
        }
      ]
    },
    {
      "cell_type": "markdown",
      "source": [
        "![image.png](data:image/png;base64,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)"
      ],
      "metadata": {
        "id": "66vwtL0WYoPX"
      }
    },
    {
      "cell_type": "code",
      "source": [
        "import math\n",
        "def sum_factorials(n):\n",
        "  if n % 2 == 0 and 2 <= n <= 20:\n",
        "    sum = 0\n",
        "    for index in range(2, n + 1, 2):\n",
        "      sum += math.factorial(index)\n",
        "    return sum\n",
        "  else:\n",
        "    print(\"invalid namber\")\n",
        "n = int(input(\"введите n(2 <= n <= 20 и n-четное) = \"))\n",
        "sum = sum_factorials(n)\n",
        "print(f\"сумма равна {sum}\")\n"
      ],
      "metadata": {
        "colab": {
          "base_uri": "https://localhost:8080/"
        },
        "id": "Yqe_QontYtLv",
        "outputId": "05ee8e8d-34dd-442c-e524-44a4cfeac864"
      },
      "execution_count": null,
      "outputs": [
        {
          "output_type": "stream",
          "name": "stdout",
          "text": [
            "введите n(2 <= n <= 20 и n-четное) = 20\n",
            "сумма равна 2439325392333218666\n"
          ]
        }
      ]
    }
  ]
}